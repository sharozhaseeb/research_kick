{
 "cells": [
  {
   "cell_type": "code",
   "execution_count": 3,
   "metadata": {},
   "outputs": [
    {
     "name": "stdout",
     "output_type": "stream",
     "text": [
      "<?xml version=\"1.0\" encoding=\"UTF-8\"?>\n",
      "<feed xmlns=\"http://www.w3.org/2005/Atom\">\n",
      "  <link href=\"http://arxiv.org/api/query?search_query%3Dmachine%3Aelectron%26id_list%3D%26start%3D0%26max_results%3D1\" rel=\"self\" type=\"application/atom+xml\"/>\n",
      "  <title type=\"html\">ArXiv Query: search_query=machine:electron&amp;id_list=&amp;start=0&amp;max_results=1</title>\n",
      "  <id>http://arxiv.org/api/lvyo2fz1O1fDdiJ6AN6cW3cpqGM</id>\n",
      "  <updated>2025-03-22T00:00:00-04:00</updated>\n",
      "  <opensearch:totalResults xmlns:opensearch=\"http://a9.com/-/spec/opensearch/1.1/\">0</opensearch:totalResults>\n",
      "  <opensearch:startIndex xmlns:opensearch=\"http://a9.com/-/spec/opensearch/1.1/\">0</opensearch:startIndex>\n",
      "  <opensearch:itemsPerPage xmlns:opensearch=\"http://a9.com/-/spec/opensearch/1.1/\">1</opensearch:itemsPerPage>\n",
      "</feed>\n",
      "\n"
     ]
    }
   ],
   "source": [
    "import urllib, urllib.request\n",
    "query = \"machine\"\n",
    "url = f'http://export.arxiv.org/api/query?search_query={query}:electron&start=0&max_results=1'\n",
    "data = urllib.request.urlopen(url)\n",
    "print(data.read().decode('utf-8'))"
   ]
  },
  {
   "cell_type": "code",
   "execution_count": 1,
   "metadata": {},
   "outputs": [],
   "source": [
    "vas = \"\"\"\n",
    "OBJECTIVE: Identify distinct clinical phenotypes in PsA and their associations with treatment outcomes using the PsA Research Consortium (PARC) cohort\n",
    "\n",
    "KEY FINDINGS:\n",
    "\n",
    "1.        3 data driven clusters identified in this real-world study. Among different disease characteristics, the degree of psoriasis and PsA seem to be the most important. This also resonates with clinical practice.\n",
    "\n",
    "2.        Clusters remained stable across different visits, although some patients moved from one cluster to the next over the visits.\n",
    "\n",
    "3.        The clusters had significantly different treatment responses to the first therapy and first TNFi started in the cohort. Could be related to the following reasons:\n",
    "\n",
    "- Psoriasis responds better to therapy compared to PsA (cluster 3)\n",
    "- Ceiling effect with cluster 1 patients not having much room to improve\n",
    "- Current disease activity/functional status measures are not adequately capturing disease status\n",
    "\n",
    "4.        Significant proportion of patients in cluster 1 (low disease activity) were also started on therapy, suggesting the current measures likely do not capture disease activity well for this subgroup. Disease activity measures do not correlate well with clinical decision making for this subgroup.\n",
    "\n",
    "CORE MESSAGE: 3 PsA phenotypes driven by degree of psoriasis and PsA are associated with significantly different treatment response (defined by MCII).\n",
    "\n",
    "KEY IMPLICATIONS: The clinically relevant PsA phenotypes identified in this study demonstrated differences in therapy response. The phenotypes identified could inform potential interventions that target patients less likely to respond to therapy. Furthermore, characteristics of the phenotypes will help ascertain which baseline PsA characteristics will be important to capture in future pragmatic trials from the EHR. Furthermore, better outcome measures are required to capture disease activity/impact and treatment response in the PsA phenotype with low disease activity (cluster 1), which constituted the majority of PsA patients in our cohort. Unfortunately, these patients do not qualify for RCTs, where the inclusion criteria is usually >4 tender and swollen joints.\n",
    "\n",
    "\n",
    "\"\"\""
   ]
  },
  {
   "cell_type": "code",
   "execution_count": 2,
   "metadata": {},
   "outputs": [
    {
     "data": {
      "text/plain": [
       "'\\nOBJECTIVE: Identify distinct clinical phenotypes in PsA and their associations with treatment outcomes using the PsA Research Consortium (PARC) cohort\\n\\nKEY FINDINGS:\\n\\n1.        3 data driven clusters identified in this real-world study. Among different disease characteristics, the degree of psoriasis and PsA seem to be the most important. This also resonates with clinical practice.\\n\\n2.        Clusters remained stable across different visits, although some patients moved from one cluster to the next over the visits.\\n\\n3.        The clusters had significantly different treatment responses to the first therapy and first TNFi started in the cohort. Could be related to the following reasons:\\n\\n- Psoriasis responds better to therapy compared to PsA (cluster 3)\\n- Ceiling effect with cluster 1 patients not having much room to improve\\n- Current disease activity/functional status measures are not adequately capturing disease status\\n\\n4.        Significant proportion of patients in cluster 1 (low disease activity) were also started on therapy, suggesting the current measures likely do not capture disease activity well for this subgroup. Disease activity measures do not correlate well with clinical decision making for this subgroup.\\n\\nCORE MESSAGE: 3 PsA phenotypes driven by degree of psoriasis and PsA are associated with significantly different treatment response (defined by MCII).\\n\\nKEY IMPLICATIONS: The clinically relevant PsA phenotypes identified in this study demonstrated differences in therapy response. The phenotypes identified could inform potential interventions that target patients less likely to respond to therapy. Furthermore, characteristics of the phenotypes will help ascertain which baseline PsA characteristics will be important to capture in future pragmatic trials from the EHR. Furthermore, better outcome measures are required to capture disease activity/impact and treatment response in the PsA phenotype with low disease activity (cluster 1), which constituted the majority of PsA patients in our cohort. Unfortunately, these patients do not qualify for RCTs, where the inclusion criteria is usually >4 tender and swollen joints.\\n\\n\\n'"
      ]
     },
     "execution_count": 2,
     "metadata": {},
     "output_type": "execute_result"
    }
   ],
   "source": [
    "vas"
   ]
  },
  {
   "cell_type": "code",
   "execution_count": 9,
   "metadata": {},
   "outputs": [],
   "source": [
    "vas =   \"\"\"PROBLEM:\n",
    "\n",
    "GAP:\n",
    "\n",
    "HOOK:\n",
    "\n",
    "SOLUTION:\n",
    "\n",
    "\"\"\""
   ]
  },
  {
   "cell_type": "code",
   "execution_count": 10,
   "metadata": {},
   "outputs": [
    {
     "data": {
      "text/plain": [
       "'PROBLEM:\\n\\nGAP:\\n\\nHOOK:\\n\\nSOLUTION:\\n\\n'"
      ]
     },
     "execution_count": 10,
     "metadata": {},
     "output_type": "execute_result"
    }
   ],
   "source": [
    "vas"
   ]
  },
  {
   "cell_type": "code",
   "execution_count": null,
   "metadata": {},
   "outputs": [],
   "source": []
  }
 ],
 "metadata": {
  "kernelspec": {
   "display_name": "base",
   "language": "python",
   "name": "python3"
  },
  "language_info": {
   "codemirror_mode": {
    "name": "ipython",
    "version": 3
   },
   "file_extension": ".py",
   "mimetype": "text/x-python",
   "name": "python",
   "nbconvert_exporter": "python",
   "pygments_lexer": "ipython3",
   "version": "3.12.2"
  }
 },
 "nbformat": 4,
 "nbformat_minor": 2
}
