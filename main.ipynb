{
 "cells": [
  {
   "cell_type": "code",
   "execution_count": 3,
   "metadata": {},
   "outputs": [
    {
     "name": "stdout",
     "output_type": "stream",
     "text": [
      "<?xml version=\"1.0\" encoding=\"UTF-8\"?>\n",
      "<feed xmlns=\"http://www.w3.org/2005/Atom\">\n",
      "  <link href=\"http://arxiv.org/api/query?search_query%3Dmachine%3Aelectron%26id_list%3D%26start%3D0%26max_results%3D1\" rel=\"self\" type=\"application/atom+xml\"/>\n",
      "  <title type=\"html\">ArXiv Query: search_query=machine:electron&amp;id_list=&amp;start=0&amp;max_results=1</title>\n",
      "  <id>http://arxiv.org/api/lvyo2fz1O1fDdiJ6AN6cW3cpqGM</id>\n",
      "  <updated>2025-03-22T00:00:00-04:00</updated>\n",
      "  <opensearch:totalResults xmlns:opensearch=\"http://a9.com/-/spec/opensearch/1.1/\">0</opensearch:totalResults>\n",
      "  <opensearch:startIndex xmlns:opensearch=\"http://a9.com/-/spec/opensearch/1.1/\">0</opensearch:startIndex>\n",
      "  <opensearch:itemsPerPage xmlns:opensearch=\"http://a9.com/-/spec/opensearch/1.1/\">1</opensearch:itemsPerPage>\n",
      "</feed>\n",
      "\n"
     ]
    }
   ],
   "source": [
    "import urllib, urllib.request\n",
    "query = \"machine\"\n",
    "url = f'http://export.arxiv.org/api/query?search_query={query}:electron&start=0&max_results=1'\n",
    "data = urllib.request.urlopen(url)\n",
    "print(data.read().decode('utf-8'))"
   ]
  },
  {
   "cell_type": "code",
   "execution_count": 1,
   "metadata": {},
   "outputs": [],
   "source": [
    "vas = \"\"\"\n",
    "OBJECTIVE: Identify distinct clinical phenotypes in PsA and their associations with treatment outcomes using the PsA Research Consortium (PARC) cohort\n",
    "\n",
    "KEY FINDINGS:\n",
    "\n",
    "1.        3 data driven clusters identified in this real-world study. Among different disease characteristics, the degree of psoriasis and PsA seem to be the most important. This also resonates with clinical practice.\n",
    "\n",
    "2.        Clusters remained stable across different visits, although some patients moved from one cluster to the next over the visits.\n",
    "\n",
    "3.        The clusters had significantly different treatment responses to the first therapy and first TNFi started in the cohort. Could be related to the following reasons:\n",
    "\n",
    "- Psoriasis responds better to therapy compared to PsA (cluster 3)\n",
    "- Ceiling effect with cluster 1 patients not having much room to improve\n",
    "- Current disease activity/functional status measures are not adequately capturing disease status\n",
    "\n",
    "4.        Significant proportion of patients in cluster 1 (low disease activity) were also started on therapy, suggesting the current measures likely do not capture disease activity well for this subgroup. Disease activity measures do not correlate well with clinical decision making for this subgroup.\n",
    "\n",
    "CORE MESSAGE: 3 PsA phenotypes driven by degree of psoriasis and PsA are associated with significantly different treatment response (defined by MCII).\n",
    "\n",
    "KEY IMPLICATIONS: The clinically relevant PsA phenotypes identified in this study demonstrated differences in therapy response. The phenotypes identified could inform potential interventions that target patients less likely to respond to therapy. Furthermore, characteristics of the phenotypes will help ascertain which baseline PsA characteristics will be important to capture in future pragmatic trials from the EHR. Furthermore, better outcome measures are required to capture disease activity/impact and treatment response in the PsA phenotype with low disease activity (cluster 1), which constituted the majority of PsA patients in our cohort. Unfortunately, these patients do not qualify for RCTs, where the inclusion criteria is usually >4 tender and swollen joints.\n",
    "\n",
    "\n",
    "\"\"\""
   ]
  },
  {
   "cell_type": "code",
   "execution_count": 2,
   "metadata": {},
   "outputs": [
    {
     "data": {
      "text/plain": [
       "'\\nOBJECTIVE: Identify distinct clinical phenotypes in PsA and their associations with treatment outcomes using the PsA Research Consortium (PARC) cohort\\n\\nKEY FINDINGS:\\n\\n1.        3 data driven clusters identified in this real-world study. Among different disease characteristics, the degree of psoriasis and PsA seem to be the most important. This also resonates with clinical practice.\\n\\n2.        Clusters remained stable across different visits, although some patients moved from one cluster to the next over the visits.\\n\\n3.        The clusters had significantly different treatment responses to the first therapy and first TNFi started in the cohort. Could be related to the following reasons:\\n\\n- Psoriasis responds better to therapy compared to PsA (cluster 3)\\n- Ceiling effect with cluster 1 patients not having much room to improve\\n- Current disease activity/functional status measures are not adequately capturing disease status\\n\\n4.        Significant proportion of patients in cluster 1 (low disease activity) were also started on therapy, suggesting the current measures likely do not capture disease activity well for this subgroup. Disease activity measures do not correlate well with clinical decision making for this subgroup.\\n\\nCORE MESSAGE: 3 PsA phenotypes driven by degree of psoriasis and PsA are associated with significantly different treatment response (defined by MCII).\\n\\nKEY IMPLICATIONS: The clinically relevant PsA phenotypes identified in this study demonstrated differences in therapy response. The phenotypes identified could inform potential interventions that target patients less likely to respond to therapy. Furthermore, characteristics of the phenotypes will help ascertain which baseline PsA characteristics will be important to capture in future pragmatic trials from the EHR. Furthermore, better outcome measures are required to capture disease activity/impact and treatment response in the PsA phenotype with low disease activity (cluster 1), which constituted the majority of PsA patients in our cohort. Unfortunately, these patients do not qualify for RCTs, where the inclusion criteria is usually >4 tender and swollen joints.\\n\\n\\n'"
      ]
     },
     "execution_count": 2,
     "metadata": {},
     "output_type": "execute_result"
    }
   ],
   "source": [
    "vas"
   ]
  },
  {
   "cell_type": "code",
   "execution_count": 9,
   "metadata": {},
   "outputs": [],
   "source": [
    "vas =   \"\"\"PROBLEM:\n",
    "\n",
    "GAP:\n",
    "\n",
    "HOOK:\n",
    "\n",
    "SOLUTION:\n",
    "\n",
    "\"\"\""
   ]
  },
  {
   "cell_type": "code",
   "execution_count": 10,
   "metadata": {},
   "outputs": [
    {
     "data": {
      "text/plain": [
       "'PROBLEM:\\n\\nGAP:\\n\\nHOOK:\\n\\nSOLUTION:\\n\\n'"
      ]
     },
     "execution_count": 10,
     "metadata": {},
     "output_type": "execute_result"
    }
   ],
   "source": [
    "vas"
   ]
  },
  {
   "cell_type": "code",
   "execution_count": 1,
   "metadata": {},
   "outputs": [],
   "source": [
    "vas = \"\"\"\n",
    "PROBLEM: While the introduction of catheter-directed thrombolysis (CDT) has provided a more targeted thrombolytic approach, potentially reducing bleeding risks compared to systemic thrombolysis, the indication for use beyond massive PE remains unclear. \n",
    "\n",
    " \n",
    "\n",
    "GAP: Although previous studies have assessed the efficacy of CDT, these studies were limited to small- scale settings, leaving a gap in understanding its real-world effectiveness at a national level in patients with submassive PE. \n",
    "\n",
    " \n",
    "\n",
    "HOOK: If catheter-directed thrombolysis (CDT) is more effective versus anticoagulation in sub-massive pulmonary embolism (PE) in the real world, this can be used more in a subset of patients with more bleeding risk for example.\n",
    "\n",
    " \n",
    "\n",
    "SOLUTION: we conducted a nationwide observational study using the NIS dataset (2016 - 2022) to evaluate inpatient outcomes for CDT vs. anticoagulation in submassive PE\"\"\""
   ]
  },
  {
   "cell_type": "code",
   "execution_count": 2,
   "metadata": {},
   "outputs": [
    {
     "data": {
      "text/plain": [
       "'\\nPROBLEM: While the introduction of catheter-directed thrombolysis (CDT) has provided a more targeted thrombolytic approach, potentially reducing bleeding risks compared to systemic thrombolysis, the indication for use beyond massive PE remains unclear. \\n\\n \\n\\nGAP: Although previous studies have assessed the efficacy of CDT, these studies were limited to small- scale settings, leaving a gap in understanding its real-world effectiveness at a national level in patients with submassive PE. \\n\\n \\n\\nHOOK: If catheter-directed thrombolysis (CDT) is more effective versus anticoagulation in sub-massive pulmonary embolism (PE) in the real world, this can be used more in a subset of patients with more bleeding risk for example.\\n\\n \\n\\nSOLUTION: we conducted a nationwide observational study using the NIS dataset (2016 - 2022) to evaluate inpatient outcomes for CDT vs. anticoagulation in submassive PE'"
      ]
     },
     "execution_count": 2,
     "metadata": {},
     "output_type": "execute_result"
    }
   ],
   "source": [
    "vas"
   ]
  },
  {
   "cell_type": "code",
   "execution_count": null,
   "metadata": {},
   "outputs": [],
   "source": [
    "PROBLEM: While the introduction of catheter-directed thrombolysis (CDT) has provided a more targeted thrombolytic approach, potentially reducing bleeding risks compared to systemic thrombolysis, the indication for use beyond massive PE remains unclear. \\n\\n \\n\\nGAP: Although previous studies have assessed the efficacy of CDT, these studies were limited to small- scale settings, leaving a gap in understanding its real-world effectiveness at a national level in patients with submassive PE. \\n\\n \\n\\nHOOK: If catheter-directed thrombolysis (CDT) is more effective versus anticoagulation in sub-massive pulmonary embolism (PE) in the real world, this can be used more in a subset of patients with more bleeding risk for example.\\n\\n \\n\\nSOLUTION: we conducted a nationwide observational study using the NIS dataset (2016 - 2022) to evaluate inpatient outcomes for CDT vs. anticoagulation in submassive PE"
   ]
  },
  {
   "cell_type": "code",
   "execution_count": 6,
   "metadata": {},
   "outputs": [],
   "source": [
    "vas = \"\"\"Objective: Comparison of inpatient outcomes CDT vs. AC in submassive PE\n",
    "\n",
    "Key results:\n",
    "\n",
    "Inhospital mortality CDT anticoagulation\n",
    "LOS lower in CDT compared to AC\n",
    "Bleeding risk similar\n",
    "Cost CDTAC (But costeffective ratio intermediate)\n",
    "Core message: CDT is more effective without bleeding complications and reasonable costeffectiveness.\n",
    "\n",
    "Key (clinical) implications: CDT not just for massive PE but should be considered in submassive PE as well, where it can more effective with less bleeding complications and reasonable costeffectiveness. Potential for use in high risk subgroups such as those with higher bleeding risk.\n",
    "TABLE:\n",
    "Tables and Figures\n",
    "Table 1: Baseline characteristics of patients undergoing catheter-directed thrombolysis (CDT) versus anticoagulation only for sub-massive pulmonary embolism in years 2016-2022. \n",
    "Characteristic\tCatheter-Directed Thrombolysis (n=3,559)\tAnticoagulation only (n=22,910)\tp-value\n",
    "Age in years (mean± SD)\t61.12 ± 14.69\n",
    "\n",
    "65.64 ± 15.51\n",
    "\t<0.001* \n",
    "\n",
    "Sex\t\t\t0.000\n",
    "Male (%)\t1,830 (51.43)\t10,911 (47.63)\t\n",
    "Female (%)\t1,728 (48.57)\t11,995 (52.37)\t\n",
    "Race\t\t\t0.003\n",
    "White (%)\t2,706 (78.62)\t17,063 (76.73)\t\n",
    "Black (%)\t610 (17.72)\t4,081 (18.35)\t\n",
    "Hispanic (%)\t126 (3.66)\t1,093 (4.92)\t\n",
    "Income Quartile\t\t\t0.095\n",
    "0-25th (%)\t948 (26.89)\t5,948 (26.39)\t\n",
    "26-50th (%)\t999 (28.34)\t6,042 (26.80)\t\n",
    "51-75th (%)\t890 (25.25)\t5,833 (25.88)\t\n",
    "76-100th (%)\t688 (19.52)\t4,719 (20.93)\t\n",
    "Primary Payer\t\t\t0.000\n",
    "Medicare (%)\t1,622 (45.57)\t12,954 (56.54)\t\n",
    "Medicaid (%)\t312 (8.77)\t2,531 (11.05)\t\n",
    "Private Insurance (%)\t1,346 (37.82)\t6,066 (26.48)\t\n",
    "Other (%)\t276 (7.75)\t1,328 (5.80)\t\n",
    "Hospital Bed Size\t\t\t0.000\n",
    "Small (%)\t629 (17.67)\t4,734 (20.66)\t\n",
    "Medium (%)\t1,034 (29.05)\t6,543 (28.56)\t\n",
    "Large (%)\t1,896 (53.27)\t11,633 (50.78)\t\n",
    "Hospital Region\t\t\t0.000\n",
    "Northeast region (%)\t450 (12.64)\t4,245 (18.53)\t\n",
    "Midwest region (%)\t1,246 (35.01)\t6,225 (27.17)\t\n",
    "South region (%)\t1,443 (40.55)\t8,131 (35.49)\t\n",
    "West region (%)\t420 (11.80)\t4,309 (18.81)\t\n",
    "Hospital Location/Teaching Status\t\t\t0.000\n",
    "Rural (%)\t160 (4.50)\t1,754 (7.66)\t\n",
    "Urban Non-Teaching (%)\t671 (18.85)\t4,146 (18.10)\t\n",
    "Urban Teaching (%)\t2,728 (76.65)\t17,010 (74.25)\t\n",
    "Co-morbidities\t\t\t\n",
    "Charlson Comorbidity Index Score\t3.27±0.04\t4.531±0.019\t<0.001                          \n",
    "Chronic Kidney Disease (CKD) (%)\t179 (5.03% )\t1,926 (8.41%)\t<0.001*\n",
    "Cancer (%)\t177 (4.97%)\t2,402 (10.48%)\t<0.001*\n",
    "Myocardial Infarction (MI) (%)\t437 (12.28%)\t3,152 (13.76%)\t0.017*\n",
    "Congestive Heart Failure (CHF) (%)\t658 (18.49%)\t7,663 (33.45%)\t<0.001*\n",
    "Liver Disease(%)\t147 (4.13%)\t1,287 (5.62%)\t<0.001*\n",
    "Liver Failure(%)\t3 (0.08%)\t131 (0.57%)\t<0.001*\n",
    "Rheumatic Disease (%)\t94 (2.64%)\t705 (3.08%)\t0.171\n",
    "Peripheral Vascular Disease (PVD) (%)\t128 (3.60%)\t1,168 (5.10%)\t<0.001*\n",
    "Metastatic Cancer(%)\t97 (2.73%)\t1,548 (6.76%)\t<0.001*\n",
    "Chronic Pulmonary Disease(%)\t730 (20.51%)\t6,727 (29.36%)\t<0.001*\n",
    "AIDS/HIV(%)\t4 (0.11%)\t58 (0.25%)\t0.134\n",
    "Diabetes without Complications(%)\t399 (11.21%)\t2,535 (11.07%)\t0.796\n",
    "Dementia(%)\t106 (2.98%)\t1,835 (8.01%)\t<0.001*\n",
    "Paralysis(%)\t26 (0.73%)\t375 (1.64%)\t<0.001*\n",
    "Peptic Ulcer Disease(%)\t23 (0.65%)\t247 (1.08%)\t0.015*\n",
    "Cerebrovascular Disease (Stroke, TIA) (%)\t96 (2.70%)\t1,199 (5.23%)\t<0  .001*\n",
    "CDT, catheter-directed thrombolysis; CKD, chronic kidney disease; MI, Myocardial Infarction; CHF; congestive heart failure; PVD, peripheral vascular disease; TIA, transient ischemic attack; SD, standard deviation.\n",
    " \n",
    "Table 2: Outcomes of catheter-directed thrombolysis (CDT) vs. Anticoagulation only for sub-\n",
    "massive pulmonary embolism in years 2016-2022. \n",
    "Outcome  \tUnadjusted   Odds Ratio\tUnadjusted 95% CI \tAdjusted\n",
    "Odds Ratio \tAdjusted 95% CI \tp-value\n",
    "Efficacy\t\t\t\t\t\n",
    "In -hospital mortality \t0.28\t(0.22 – 0.35)\t0.33\t(0.26 – 0.43)\t<0.001\n",
    "\t\t\t\t\t\n",
    "Harms\t\t\t\t\t\n",
    "Any bleedinga\t0.84\t(0.74-0.95)\t0.91\t(0.80-1.04)\t0.177\n",
    "Intracranial Hemorrhage (ICH)\t0.69\t(0.45-1.06)\t0.79\t(0.50-1.27)\t0.335\n",
    "Non-ICH bleedingb\t0.86\t(0.75-0.98)\t0.92\t(0.80-1.06)\t0.261\n",
    "Costs (in USD\t\t\t\t\t\n",
    "\tUnadjusted costs\tUnadjusted costs 95% CI\tAdjusted Costs \tAdjusted costs 95% CI\tp-value\n",
    "\t$5,623\t(4,944 – 6,303)\t$10,666\t($10,093 – 11,240)\t<0.001\n",
    "Length of stay (days)\t\t\t\t\t\n",
    "\tUnadjusted LOS\tUnadjusted LOS 95% CI\tAdjusted LOS\tAdjusted LOS 95% CI\tp-value\n",
    "\t-1.61\t(-1.80 – -1.43)\t-1.21\t(-1.41 – -1.00)\t<0.001\n",
    "\n",
    "\n",
    "ICH, intracranial hemorrhage. \n",
    "a= Any bleeding includes intracranial bleeding, thoracic bleed, gastrointestinal bleed, hemoperitoneum, hemopericardium, hemarthrosis, gynecological bleed, hematuria. \n",
    "b= non-ICH bleeding is all bleeding except ICH.\n",
    "Adjusted for age, sex, race, diabetes, liver disease, liver failure, congestive heart failure, chronic kidney disease, chronic lung disease, peripheral vascular disease, myocardial infarction, dementia, paralysis, AIDS/HIV, rheumatic disease, peptic ulcer disease, metastatic cancer, cancer, cerebrovascular disease, hospital size (number of beds), hospital region, income.\n",
    "\n",
    "\"\"\""
   ]
  },
  {
   "cell_type": "code",
   "execution_count": 7,
   "metadata": {},
   "outputs": [
    {
     "data": {
      "text/plain": [
       "'Objective: Comparison of inpatient outcomes CDT vs. AC in submassive PE\\n\\nKey results:\\n\\nInhospital mortality CDT anticoagulation\\nLOS lower in CDT compared to AC\\nBleeding risk similar\\nCost CDTAC (But costeffective ratio intermediate)\\nCore message: CDT is more effective without bleeding complications and reasonable costeffectiveness.\\n\\nKey (clinical) implications: CDT not just for massive PE but should be considered in submassive PE as well, where it can more effective with less bleeding complications and reasonable costeffectiveness. Potential for use in high risk subgroups such as those with higher bleeding risk.\\nTABLE:\\nTables and Figures\\nTable 1: Baseline characteristics of patients undergoing catheter-directed thrombolysis (CDT) versus anticoagulation only for sub-massive pulmonary embolism in years 2016-2022. \\nCharacteristic\\tCatheter-Directed Thrombolysis (n=3,559)\\tAnticoagulation only (n=22,910)\\tp-value\\nAge in years (mean± SD)\\t61.12 ± 14.69\\n\\n65.64 ± 15.51\\n\\t<0.001* \\n\\nSex\\t\\t\\t0.000\\nMale (%)\\t1,830 (51.43)\\t10,911 (47.63)\\t\\nFemale (%)\\t1,728 (48.57)\\t11,995 (52.37)\\t\\nRace\\t\\t\\t0.003\\nWhite (%)\\t2,706 (78.62)\\t17,063 (76.73)\\t\\nBlack (%)\\t610 (17.72)\\t4,081 (18.35)\\t\\nHispanic (%)\\t126 (3.66)\\t1,093 (4.92)\\t\\nIncome Quartile\\t\\t\\t0.095\\n0-25th (%)\\t948 (26.89)\\t5,948 (26.39)\\t\\n26-50th (%)\\t999 (28.34)\\t6,042 (26.80)\\t\\n51-75th (%)\\t890 (25.25)\\t5,833 (25.88)\\t\\n76-100th (%)\\t688 (19.52)\\t4,719 (20.93)\\t\\nPrimary Payer\\t\\t\\t0.000\\nMedicare (%)\\t1,622 (45.57)\\t12,954 (56.54)\\t\\nMedicaid (%)\\t312 (8.77)\\t2,531 (11.05)\\t\\nPrivate Insurance (%)\\t1,346 (37.82)\\t6,066 (26.48)\\t\\nOther (%)\\t276 (7.75)\\t1,328 (5.80)\\t\\nHospital Bed Size\\t\\t\\t0.000\\nSmall (%)\\t629 (17.67)\\t4,734 (20.66)\\t\\nMedium (%)\\t1,034 (29.05)\\t6,543 (28.56)\\t\\nLarge (%)\\t1,896 (53.27)\\t11,633 (50.78)\\t\\nHospital Region\\t\\t\\t0.000\\nNortheast region (%)\\t450 (12.64)\\t4,245 (18.53)\\t\\nMidwest region (%)\\t1,246 (35.01)\\t6,225 (27.17)\\t\\nSouth region (%)\\t1,443 (40.55)\\t8,131 (35.49)\\t\\nWest region (%)\\t420 (11.80)\\t4,309 (18.81)\\t\\nHospital Location/Teaching Status\\t\\t\\t0.000\\nRural (%)\\t160 (4.50)\\t1,754 (7.66)\\t\\nUrban Non-Teaching (%)\\t671 (18.85)\\t4,146 (18.10)\\t\\nUrban Teaching (%)\\t2,728 (76.65)\\t17,010 (74.25)\\t\\nCo-morbidities\\t\\t\\t\\nCharlson Comorbidity Index Score\\t3.27±0.04\\t4.531±0.019\\t<0.001                          \\nChronic Kidney Disease (CKD) (%)\\t179 (5.03% )\\t1,926 (8.41%)\\t<0.001*\\nCancer (%)\\t177 (4.97%)\\t2,402 (10.48%)\\t<0.001*\\nMyocardial Infarction (MI) (%)\\t437 (12.28%)\\t3,152 (13.76%)\\t0.017*\\nCongestive Heart Failure (CHF) (%)\\t658 (18.49%)\\t7,663 (33.45%)\\t<0.001*\\nLiver Disease(%)\\t147 (4.13%)\\t1,287 (5.62%)\\t<0.001*\\nLiver Failure(%)\\t3 (0.08%)\\t131 (0.57%)\\t<0.001*\\nRheumatic Disease (%)\\t94 (2.64%)\\t705 (3.08%)\\t0.171\\nPeripheral Vascular Disease (PVD) (%)\\t128 (3.60%)\\t1,168 (5.10%)\\t<0.001*\\nMetastatic Cancer(%)\\t97 (2.73%)\\t1,548 (6.76%)\\t<0.001*\\nChronic Pulmonary Disease(%)\\t730 (20.51%)\\t6,727 (29.36%)\\t<0.001*\\nAIDS/HIV(%)\\t4 (0.11%)\\t58 (0.25%)\\t0.134\\nDiabetes without Complications(%)\\t399 (11.21%)\\t2,535 (11.07%)\\t0.796\\nDementia(%)\\t106 (2.98%)\\t1,835 (8.01%)\\t<0.001*\\nParalysis(%)\\t26 (0.73%)\\t375 (1.64%)\\t<0.001*\\nPeptic Ulcer Disease(%)\\t23 (0.65%)\\t247 (1.08%)\\t0.015*\\nCerebrovascular Disease (Stroke, TIA) (%)\\t96 (2.70%)\\t1,199 (5.23%)\\t<0  .001*\\nCDT, catheter-directed thrombolysis; CKD, chronic kidney disease; MI, Myocardial Infarction; CHF; congestive heart failure; PVD, peripheral vascular disease; TIA, transient ischemic attack; SD, standard deviation.\\n\\u2003\\nTable 2: Outcomes of catheter-directed thrombolysis (CDT) vs. Anticoagulation only for sub-\\nmassive pulmonary embolism in years 2016-2022. \\nOutcome  \\tUnadjusted   Odds Ratio\\tUnadjusted 95% CI \\tAdjusted\\nOdds Ratio \\tAdjusted 95% CI \\tp-value\\nEfficacy\\t\\t\\t\\t\\t\\nIn -hospital mortality \\t0.28\\t(0.22 – 0.35)\\t0.33\\t(0.26 – 0.43)\\t<0.001\\n\\t\\t\\t\\t\\t\\nHarms\\t\\t\\t\\t\\t\\nAny bleedinga\\t0.84\\t(0.74-0.95)\\t0.91\\t(0.80-1.04)\\t0.177\\nIntracranial Hemorrhage (ICH)\\t0.69\\t(0.45-1.06)\\t0.79\\t(0.50-1.27)\\t0.335\\nNon-ICH bleedingb\\t0.86\\t(0.75-0.98)\\t0.92\\t(0.80-1.06)\\t0.261\\nCosts (in USD\\t\\t\\t\\t\\t\\n\\tUnadjusted costs\\tUnadjusted costs 95% CI\\tAdjusted Costs \\tAdjusted costs 95% CI\\tp-value\\n\\t$5,623\\t(4,944 – 6,303)\\t$10,666\\t($10,093 – 11,240)\\t<0.001\\nLength of stay (days)\\t\\t\\t\\t\\t\\n\\tUnadjusted LOS\\tUnadjusted LOS 95% CI\\tAdjusted LOS\\tAdjusted LOS 95% CI\\tp-value\\n\\t-1.61\\t(-1.80 – -1.43)\\t-1.21\\t(-1.41 – -1.00)\\t<0.001\\n\\n\\nICH, intracranial hemorrhage. \\na= Any bleeding includes intracranial bleeding, thoracic bleed, gastrointestinal bleed, hemoperitoneum, hemopericardium, hemarthrosis, gynecological bleed, hematuria. \\nb= non-ICH bleeding is all bleeding except ICH.\\nAdjusted for age, sex, race, diabetes, liver disease, liver failure, congestive heart failure, chronic kidney disease, chronic lung disease, peripheral vascular disease, myocardial infarction, dementia, paralysis, AIDS/HIV, rheumatic disease, peptic ulcer disease, metastatic cancer, cancer, cerebrovascular disease, hospital size (number of beds), hospital region, income.\\n\\n'"
      ]
     },
     "execution_count": 7,
     "metadata": {},
     "output_type": "execute_result"
    }
   ],
   "source": [
    "vas"
   ]
  },
  {
   "cell_type": "code",
   "execution_count": null,
   "metadata": {},
   "outputs": [],
   "source": []
  }
 ],
 "metadata": {
  "kernelspec": {
   "display_name": "base",
   "language": "python",
   "name": "python3"
  },
  "language_info": {
   "codemirror_mode": {
    "name": "ipython",
    "version": 3
   },
   "file_extension": ".py",
   "mimetype": "text/x-python",
   "name": "python",
   "nbconvert_exporter": "python",
   "pygments_lexer": "ipython3",
   "version": "3.12.2"
  }
 },
 "nbformat": 4,
 "nbformat_minor": 2
}
